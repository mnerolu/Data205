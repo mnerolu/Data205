{
 "cells": [
  {
   "cell_type": "markdown",
   "metadata": {},
   "source": [
    "# <h1><center> COMMUNICATION THROUGH DATA and STORY THROUGH VISUALIZATION </center></h1>\n",
    "\n",
    "## <h1><center> “Time Series Analysis” to Forecast Crashes and Traffic Violations in Montgomery County, MD  </center></h1>\n",
    "\n",
    "\n",
    "### Meenakshi Nerolu           \n",
    "### Date: Dec 1, 2020"
   ]
  },
  {
   "cell_type": "markdown",
   "metadata": {},
   "source": [
    "# Importing Libraries"
   ]
  },
  {
   "cell_type": "code",
   "execution_count": 1,
   "metadata": {
    "scrolled": true
   },
   "outputs": [],
   "source": [
    "## import packages:\n",
    "import warnings\n",
    "warnings.filterwarnings('ignore')\n",
    "\n",
    "import numpy as np # for vector operations\n",
    "from numpy import percentile\n",
    "import pandas as pd # for Data Frame methods\n",
    "import pandas.util.testing as tm\n",
    "import matplotlib.pyplot as plt # Two dimensional plotting library\n",
    "import matplotlib as mpl\n",
    "import seaborn as sns #  library for making statistical graphics\n",
    "import plotly as py\n",
    "import plotly.graph_objs as go\n",
    "import plotly.figure_factory as ff\n",
    "import plotly.express as px\n",
    "from plotly import tools\n",
    "\n",
    "#sklearn\n",
    "import sklearn\n",
    "from sklearn.linear_model import LogisticRegression\n",
    "from sklearn.ensemble import RandomForestClassifier\n",
    "from sklearn.tree import DecisionTreeClassifier\n",
    "from sklearn.naive_bayes import GaussianNB\n",
    "from sklearn.metrics import classification_report\n",
    "from sklearn.metrics import accuracy_score, f1_score, precision_score, recall_score \n",
    "from sklearn.metrics import classification_report, confusion_matrix, roc_auc_score\n",
    "from sklearn.metrics import auc, roc_curve\n",
    "from sklearn.metrics import r2_score\n",
    "from sklearn.metrics import f1_score\n",
    "from sklearn.model_selection import cross_val_score, GridSearchCV, train_test_split\n",
    "from sklearn.preprocessing import LabelEncoder, OneHotEncoder, StandardScaler, OrdinalEncoder\n",
    "from sklearn.svm import SVC, LinearSVC\n",
    "from sklearn.utils import resample\n",
    "from sklearn import metrics\n",
    "from sklearn.model_selection import train_test_split\n",
    "from sklearn.metrics import log_loss\n",
    "import scikitplot as skplt"
   ]
  },
  {
   "cell_type": "markdown",
   "metadata": {},
   "source": [
    "# 1.Traffic Violation <a class=\"anchor\" id=\"sec3\"></a> "
   ]
  },
  {
   "cell_type": "markdown",
   "metadata": {},
   "source": [
    "## Reading \"Traffic_Violations\" data"
   ]
  },
  {
   "cell_type": "code",
   "execution_count": 2,
   "metadata": {},
   "outputs": [],
   "source": [
    "    # Reading csv file\n",
    "    #traffic = pd.read_csv(\"Traffic_Violations.csv\",low_memory=False)\n",
    "    \n",
    "    ## Downloading & Reading csv file from website\n",
    "    url = 'https://data.montgomerycountymd.gov/api/views/4mse-ku6q/rows.csv?accessType=DOWNLOAD'\n",
    "    traffic = pd.read_csv(url,low_memory=False)"
   ]
  },
  {
   "cell_type": "code",
   "execution_count": 3,
   "metadata": {},
   "outputs": [],
   "source": [
    "\"\"\"\" UseFeatues() Function when called, returns a dataframe with additional features\"\"\"\n",
    "\n",
    "def useFeatures(traffic):\n",
    "\n",
    "    ## Formatting the Date\n",
    "    ## Replace white space everywhere\n",
    "    traffic.columns = traffic.columns.str.replace(' ', '')\n",
    "    # Confirm the date column is in datetime format\n",
    "    traffic['DateOfStop'] = pd.to_datetime(traffic['DateOfStop'])\n",
    "\n",
    "    # Confirm the  time column is in datetime format\n",
    "    traffic['TimeOfStop'] = pd.to_datetime(traffic['TimeOfStop'])\n",
    "    # creating  new columns: date, year, month, day, time \n",
    "    traffic['date'] = pd.to_datetime(traffic['DateOfStop'])\n",
    "    traffic['year'] = traffic['DateOfStop'].dt.year\n",
    "    traffic['month'] = traffic['DateOfStop'].dt.month\n",
    "    traffic['time'] = traffic['TimeOfStop'].dt.time\n",
    "    traffic['hour'] = traffic['TimeOfStop'].dt.hour\n",
    "    #traffic['day'] = traffic['DateOfStop'].dt.weekday_name\n",
    "    traffic['day'] = traffic['DateOfStop'].dt.day_name()\n",
    "    traffic = traffic.sort_values(by='date')\n",
    "    \n",
    "\n",
    "    \n",
    "    ## Filtering the Desired Date Range - 2015 to 2020 ##\n",
    "    traffic = traffic[traffic.date >='01/01/2015']\n",
    "    traffic = traffic[traffic.date <'12/01/2020']\n",
    "    traffic = traffic.reset_index(drop=True)\n",
    "    \n",
    "    traffic['season']= \"Fall\"\n",
    "    traffic.loc[(traffic['month'] < 3) | (traffic['month'] >= 12), \"season\"] = 'Winter'\n",
    "    traffic.loc[(traffic['month'] < 6) & (traffic['month'] >= 3), \"season\"] = 'Spring'\n",
    "    traffic.loc[(traffic['month'] < 9) & (traffic['month'] >= 6), \"season\"] = 'Summer'\n",
    "    \n",
    "    ## Hour status\n",
    "    ##traffic[\"hourStatus\"] = \"Evening\"\n",
    "    ## traffic.loc[( traffic[\"hour\"] < 18) & ( traffic[\"wdayStatus\"] == \"Weekday\"), \"hourStatus\"]=\"WorkHour\"\n",
    "    \n",
    "    #Creating a new column to count the total number of violation\n",
    "    traffic['Violation'] = pd.Series(1, index=traffic.index)\n",
    "    \n",
    "    return traffic"
   ]
  },
  {
   "cell_type": "code",
   "execution_count": 4,
   "metadata": {},
   "outputs": [],
   "source": [
    "# All the above features are stored in new data frame \"traffic_features\"\n",
    "traffic_features = useFeatures(traffic)"
   ]
  },
  {
   "cell_type": "code",
   "execution_count": 5,
   "metadata": {},
   "outputs": [
    {
     "data": {
      "text/html": [
       "<div>\n",
       "<style scoped>\n",
       "    .dataframe tbody tr th:only-of-type {\n",
       "        vertical-align: middle;\n",
       "    }\n",
       "\n",
       "    .dataframe tbody tr th {\n",
       "        vertical-align: top;\n",
       "    }\n",
       "\n",
       "    .dataframe thead th {\n",
       "        text-align: right;\n",
       "    }\n",
       "</style>\n",
       "<table border=\"1\" class=\"dataframe\">\n",
       "  <thead>\n",
       "    <tr style=\"text-align: right;\">\n",
       "      <th></th>\n",
       "      <th>SeqID</th>\n",
       "      <th>DateOfStop</th>\n",
       "      <th>TimeOfStop</th>\n",
       "      <th>Agency</th>\n",
       "      <th>SubAgency</th>\n",
       "      <th>Description</th>\n",
       "      <th>Location</th>\n",
       "      <th>Latitude</th>\n",
       "      <th>Longitude</th>\n",
       "      <th>Accident</th>\n",
       "      <th>...</th>\n",
       "      <th>ArrestType</th>\n",
       "      <th>Geolocation</th>\n",
       "      <th>date</th>\n",
       "      <th>year</th>\n",
       "      <th>month</th>\n",
       "      <th>time</th>\n",
       "      <th>hour</th>\n",
       "      <th>day</th>\n",
       "      <th>season</th>\n",
       "      <th>Violation</th>\n",
       "    </tr>\n",
       "  </thead>\n",
       "  <tbody>\n",
       "    <tr>\n",
       "      <th>0</th>\n",
       "      <td>483fa133-119b-4bad-80bd-280604f79b76</td>\n",
       "      <td>2015-01-01</td>\n",
       "      <td>2020-12-06 06:12:00</td>\n",
       "      <td>MCP</td>\n",
       "      <td>4th District, Wheaton</td>\n",
       "      <td>DRIVING WHILE IMPAIRED BY ALCOHOL</td>\n",
       "      <td>VEIRS MILL RD @ ENNALLS AVE</td>\n",
       "      <td>39.058653</td>\n",
       "      <td>-77.047795</td>\n",
       "      <td>No</td>\n",
       "      <td>...</td>\n",
       "      <td>A - Marked Patrol</td>\n",
       "      <td>(39.0586533333333, -77.047795)</td>\n",
       "      <td>2015-01-01</td>\n",
       "      <td>2015</td>\n",
       "      <td>1</td>\n",
       "      <td>06:12:00</td>\n",
       "      <td>6</td>\n",
       "      <td>Thursday</td>\n",
       "      <td>Winter</td>\n",
       "      <td>1</td>\n",
       "    </tr>\n",
       "    <tr>\n",
       "      <th>1</th>\n",
       "      <td>29a84c0e-a872-4ef7-86ae-fcbd14217f29</td>\n",
       "      <td>2015-01-01</td>\n",
       "      <td>2020-12-06 00:57:00</td>\n",
       "      <td>MCP</td>\n",
       "      <td>3rd District, Silver Spring</td>\n",
       "      <td>FAILURE OF VEH. ON HWY. TO DISPLAY LIGHTED LAM...</td>\n",
       "      <td>COLESVILLE RD/SPRING ST</td>\n",
       "      <td>39.002607</td>\n",
       "      <td>-77.024447</td>\n",
       "      <td>No</td>\n",
       "      <td>...</td>\n",
       "      <td>A - Marked Patrol</td>\n",
       "      <td>(39.0026066666667, -77.0244466666667)</td>\n",
       "      <td>2015-01-01</td>\n",
       "      <td>2015</td>\n",
       "      <td>1</td>\n",
       "      <td>00:57:00</td>\n",
       "      <td>0</td>\n",
       "      <td>Thursday</td>\n",
       "      <td>Winter</td>\n",
       "      <td>1</td>\n",
       "    </tr>\n",
       "    <tr>\n",
       "      <th>2</th>\n",
       "      <td>d40bf56b-354a-4138-ba36-20b493422af8</td>\n",
       "      <td>2015-01-01</td>\n",
       "      <td>2020-12-06 19:50:00</td>\n",
       "      <td>MCP</td>\n",
       "      <td>2nd District, Bethesda</td>\n",
       "      <td>FAILURE OF VEH. ON HWY. TO DISPLAY LIGHTED LAM...</td>\n",
       "      <td>OLD GEORGETOWN RD X MAPLE RIDGE RD</td>\n",
       "      <td>38.992105</td>\n",
       "      <td>-77.106178</td>\n",
       "      <td>No</td>\n",
       "      <td>...</td>\n",
       "      <td>A - Marked Patrol</td>\n",
       "      <td>(38.992105, -77.1061783333333)</td>\n",
       "      <td>2015-01-01</td>\n",
       "      <td>2015</td>\n",
       "      <td>1</td>\n",
       "      <td>19:50:00</td>\n",
       "      <td>19</td>\n",
       "      <td>Thursday</td>\n",
       "      <td>Winter</td>\n",
       "      <td>1</td>\n",
       "    </tr>\n",
       "    <tr>\n",
       "      <th>3</th>\n",
       "      <td>972354e5-6b95-4267-ae05-940d006f39bb</td>\n",
       "      <td>2015-01-01</td>\n",
       "      <td>2020-12-06 05:08:00</td>\n",
       "      <td>MCP</td>\n",
       "      <td>4th District, Wheaton</td>\n",
       "      <td>DRIVING VEHICLE WHILE UNDER THE INFLUENCE OF A...</td>\n",
       "      <td>CONNECTICUT AT DEAN</td>\n",
       "      <td>39.061860</td>\n",
       "      <td>-77.044693</td>\n",
       "      <td>No</td>\n",
       "      <td>...</td>\n",
       "      <td>A - Marked Patrol</td>\n",
       "      <td>(39.06186, -77.0446933333333)</td>\n",
       "      <td>2015-01-01</td>\n",
       "      <td>2015</td>\n",
       "      <td>1</td>\n",
       "      <td>05:08:00</td>\n",
       "      <td>5</td>\n",
       "      <td>Thursday</td>\n",
       "      <td>Winter</td>\n",
       "      <td>1</td>\n",
       "    </tr>\n",
       "    <tr>\n",
       "      <th>4</th>\n",
       "      <td>8d7b7d83-add0-429a-bd9d-a31c2f5ee161</td>\n",
       "      <td>2015-01-01</td>\n",
       "      <td>2020-12-06 20:44:00</td>\n",
       "      <td>MCP</td>\n",
       "      <td>2nd District, Bethesda</td>\n",
       "      <td>DRIVER MAKING IMPROPER TURN AT INTERSECTION</td>\n",
       "      <td>OLD GEORGETOWN RD X RYLAND DR</td>\n",
       "      <td>39.012315</td>\n",
       "      <td>-77.116558</td>\n",
       "      <td>No</td>\n",
       "      <td>...</td>\n",
       "      <td>A - Marked Patrol</td>\n",
       "      <td>(39.012315, -77.1165583333333)</td>\n",
       "      <td>2015-01-01</td>\n",
       "      <td>2015</td>\n",
       "      <td>1</td>\n",
       "      <td>20:44:00</td>\n",
       "      <td>20</td>\n",
       "      <td>Thursday</td>\n",
       "      <td>Winter</td>\n",
       "      <td>1</td>\n",
       "    </tr>\n",
       "  </tbody>\n",
       "</table>\n",
       "<p>5 rows × 51 columns</p>\n",
       "</div>"
      ],
      "text/plain": [
       "                                  SeqID DateOfStop          TimeOfStop Agency  \\\n",
       "0  483fa133-119b-4bad-80bd-280604f79b76 2015-01-01 2020-12-06 06:12:00    MCP   \n",
       "1  29a84c0e-a872-4ef7-86ae-fcbd14217f29 2015-01-01 2020-12-06 00:57:00    MCP   \n",
       "2  d40bf56b-354a-4138-ba36-20b493422af8 2015-01-01 2020-12-06 19:50:00    MCP   \n",
       "3  972354e5-6b95-4267-ae05-940d006f39bb 2015-01-01 2020-12-06 05:08:00    MCP   \n",
       "4  8d7b7d83-add0-429a-bd9d-a31c2f5ee161 2015-01-01 2020-12-06 20:44:00    MCP   \n",
       "\n",
       "                     SubAgency  \\\n",
       "0        4th District, Wheaton   \n",
       "1  3rd District, Silver Spring   \n",
       "2       2nd District, Bethesda   \n",
       "3        4th District, Wheaton   \n",
       "4       2nd District, Bethesda   \n",
       "\n",
       "                                         Description  \\\n",
       "0                  DRIVING WHILE IMPAIRED BY ALCOHOL   \n",
       "1  FAILURE OF VEH. ON HWY. TO DISPLAY LIGHTED LAM...   \n",
       "2  FAILURE OF VEH. ON HWY. TO DISPLAY LIGHTED LAM...   \n",
       "3  DRIVING VEHICLE WHILE UNDER THE INFLUENCE OF A...   \n",
       "4        DRIVER MAKING IMPROPER TURN AT INTERSECTION   \n",
       "\n",
       "                             Location   Latitude  Longitude Accident  ...  \\\n",
       "0         VEIRS MILL RD @ ENNALLS AVE  39.058653 -77.047795       No  ...   \n",
       "1             COLESVILLE RD/SPRING ST  39.002607 -77.024447       No  ...   \n",
       "2  OLD GEORGETOWN RD X MAPLE RIDGE RD  38.992105 -77.106178       No  ...   \n",
       "3                 CONNECTICUT AT DEAN  39.061860 -77.044693       No  ...   \n",
       "4       OLD GEORGETOWN RD X RYLAND DR  39.012315 -77.116558       No  ...   \n",
       "\n",
       "          ArrestType                            Geolocation       date  year  \\\n",
       "0  A - Marked Patrol         (39.0586533333333, -77.047795) 2015-01-01  2015   \n",
       "1  A - Marked Patrol  (39.0026066666667, -77.0244466666667) 2015-01-01  2015   \n",
       "2  A - Marked Patrol         (38.992105, -77.1061783333333) 2015-01-01  2015   \n",
       "3  A - Marked Patrol          (39.06186, -77.0446933333333) 2015-01-01  2015   \n",
       "4  A - Marked Patrol         (39.012315, -77.1165583333333) 2015-01-01  2015   \n",
       "\n",
       "  month      time hour       day  season Violation  \n",
       "0     1  06:12:00    6  Thursday  Winter         1  \n",
       "1     1  00:57:00    0  Thursday  Winter         1  \n",
       "2     1  19:50:00   19  Thursday  Winter         1  \n",
       "3     1  05:08:00    5  Thursday  Winter         1  \n",
       "4     1  20:44:00   20  Thursday  Winter         1  \n",
       "\n",
       "[5 rows x 51 columns]"
      ]
     },
     "execution_count": 5,
     "metadata": {},
     "output_type": "execute_result"
    }
   ],
   "source": [
    "traffic_features.head()"
   ]
  },
  {
   "cell_type": "markdown",
   "metadata": {},
   "source": [
    "## Replace Yes or No by 0 "
   ]
  },
  {
   "cell_type": "code",
   "execution_count": 6,
   "metadata": {},
   "outputs": [],
   "source": [
    "    ## Replace Yes and No by 1 and 0 respectively\n",
    "traffic_replace = traffic_features.replace( {'Yes' : 1, 'No' : 0})\n",
    "    \n",
    "   \n",
    "    ## replace the column name Year by Year_model\n",
    "traffic_replace = traffic_replace.rename(columns={\"Year\":\"Year_model\"})\n",
    "    \n",
    "    # Delete the following columns as these columns have the highest number of NA's\n",
    "delete_columns = traffic_replace[['SeqID', 'SearchConducted', 'SearchDisposition', 'SearchOutcome' , 'SearchReason', 'SearchReasonForStop', 'SearchType', 'SearchArrestReason']]\n",
    "    \n",
    "    # Delete these columns from the data frame, traffic_new\n",
    "traffic_new = traffic_replace.drop(delete_columns ,axis=1)"
   ]
  },
  {
   "cell_type": "code",
   "execution_count": 7,
   "metadata": {},
   "outputs": [
    {
     "data": {
      "text/plain": [
       "BLACK          240027\n",
       "SILVER         207108\n",
       "WHITE          182930\n",
       "GRAY           136996\n",
       "RED             85330\n",
       "BLUE            80796\n",
       "GREEN           31595\n",
       "GOLD            30917\n",
       "BLUE, DARK      24114\n",
       "TAN             19433\n",
       "MAROON          17478\n",
       "BLUE, LIGHT     13211\n",
       "BEIGE           10991\n",
       "GREEN, DK        9649\n",
       "GREEN, LGT       5321\n",
       "BROWN            4676\n",
       "YELLOW           3977\n",
       "ORANGE           3721\n",
       "BRONZE           2414\n",
       "PURPLE           1944\n",
       "MULTICOLOR        760\n",
       "CREAM             546\n",
       "COPPER            347\n",
       "PINK              148\n",
       "CHROME             30\n",
       "CAMOUFLAGE         26\n",
       "Name: Color, dtype: int64"
      ]
     },
     "execution_count": 7,
     "metadata": {},
     "output_type": "execute_result"
    }
   ],
   "source": [
    "traffic_new[\"Color\"].value_counts()"
   ]
  },
  {
   "cell_type": "code",
   "execution_count": 8,
   "metadata": {},
   "outputs": [
    {
     "name": "stdout",
     "output_type": "stream",
     "text": [
      "Size of the data frame :  (1126056, 43)\n",
      "<class 'pandas.core.frame.DataFrame'>\n",
      "RangeIndex: 1126056 entries, 0 to 1126055\n",
      "Columns: 43 entries, DateOfStop to Violation\n",
      "dtypes: bool(1), datetime64[ns](3), float64(3), int64(14), object(22)\n",
      "memory usage: 361.9+ MB\n",
      "Summary of columns  None\n",
      "\n",
      "\n",
      "The column names in the dataframe \n",
      "\n",
      " : Index(['DateOfStop', 'TimeOfStop', 'Agency', 'SubAgency', 'Description',\n",
      "       'Location', 'Latitude', 'Longitude', 'Accident', 'Belts',\n",
      "       'PersonalInjury', 'PropertyDamage', 'Fatal', 'CommercialLicense',\n",
      "       'HAZMAT', 'CommercialVehicle', 'Alcohol', 'WorkZone', 'State',\n",
      "       'VehicleType', 'Year_model', 'Make', 'Model', 'Color', 'ViolationType',\n",
      "       'Charge', 'Article', 'ContributedToAccident', 'Race', 'Gender',\n",
      "       'DriverCity', 'DriverState', 'DLState', 'ArrestType', 'Geolocation',\n",
      "       'date', 'year', 'month', 'time', 'hour', 'day', 'season', 'Violation'],\n",
      "      dtype='object')\n"
     ]
    }
   ],
   "source": [
    "#rename the colors :\n",
    "traffic_new = traffic_new.replace({\"BLUE, DARK\":\"BLUE\" , \"BLUE, LIGHT\":\"BLUE\", \"GREEN, DK\":\"GREEN\", \"GREEN, LGT\":\"GREEN\" })\n",
    "traffic_new.head()\n",
    "print(\"Size of the data frame : \", traffic_new.shape)\n",
    "#info() is used to check the Information about the data and the datatypes of each respective attribute.\n",
    "print(\"Summary of columns \", traffic_new.info(verbose = False))\n",
    "#This code prints a summary of columns count and its dtypes but not per column information.\n",
    "print(\"\\n\\nThe column names in the dataframe \\n\\n :\", traffic_new.columns)"
   ]
  },
  {
   "cell_type": "code",
   "execution_count": 9,
   "metadata": {},
   "outputs": [],
   "source": [
    "traffic_final = traffic_new.fillna(method='ffill')"
   ]
  },
  {
   "cell_type": "code",
   "execution_count": 10,
   "metadata": {},
   "outputs": [
    {
     "data": {
      "text/html": [
       "<div>\n",
       "<style scoped>\n",
       "    .dataframe tbody tr th:only-of-type {\n",
       "        vertical-align: middle;\n",
       "    }\n",
       "\n",
       "    .dataframe tbody tr th {\n",
       "        vertical-align: top;\n",
       "    }\n",
       "\n",
       "    .dataframe thead th {\n",
       "        text-align: right;\n",
       "    }\n",
       "</style>\n",
       "<table border=\"1\" class=\"dataframe\">\n",
       "  <thead>\n",
       "    <tr style=\"text-align: right;\">\n",
       "      <th></th>\n",
       "      <th>DateOfStop</th>\n",
       "      <th>TimeOfStop</th>\n",
       "      <th>Agency</th>\n",
       "      <th>SubAgency</th>\n",
       "      <th>Description</th>\n",
       "      <th>Location</th>\n",
       "      <th>Latitude</th>\n",
       "      <th>Longitude</th>\n",
       "      <th>Accident</th>\n",
       "      <th>Belts</th>\n",
       "      <th>...</th>\n",
       "      <th>ArrestType</th>\n",
       "      <th>Geolocation</th>\n",
       "      <th>date</th>\n",
       "      <th>year</th>\n",
       "      <th>month</th>\n",
       "      <th>time</th>\n",
       "      <th>hour</th>\n",
       "      <th>day</th>\n",
       "      <th>season</th>\n",
       "      <th>Violation</th>\n",
       "    </tr>\n",
       "  </thead>\n",
       "  <tbody>\n",
       "    <tr>\n",
       "      <th>0</th>\n",
       "      <td>2015-01-01</td>\n",
       "      <td>2020-12-06 06:12:00</td>\n",
       "      <td>MCP</td>\n",
       "      <td>4th District, Wheaton</td>\n",
       "      <td>DRIVING WHILE IMPAIRED BY ALCOHOL</td>\n",
       "      <td>VEIRS MILL RD @ ENNALLS AVE</td>\n",
       "      <td>39.058653</td>\n",
       "      <td>-77.047795</td>\n",
       "      <td>0</td>\n",
       "      <td>0</td>\n",
       "      <td>...</td>\n",
       "      <td>A - Marked Patrol</td>\n",
       "      <td>(39.0586533333333, -77.047795)</td>\n",
       "      <td>2015-01-01</td>\n",
       "      <td>2015</td>\n",
       "      <td>1</td>\n",
       "      <td>06:12:00</td>\n",
       "      <td>6</td>\n",
       "      <td>Thursday</td>\n",
       "      <td>Winter</td>\n",
       "      <td>1</td>\n",
       "    </tr>\n",
       "    <tr>\n",
       "      <th>1</th>\n",
       "      <td>2015-01-01</td>\n",
       "      <td>2020-12-06 00:57:00</td>\n",
       "      <td>MCP</td>\n",
       "      <td>3rd District, Silver Spring</td>\n",
       "      <td>FAILURE OF VEH. ON HWY. TO DISPLAY LIGHTED LAM...</td>\n",
       "      <td>COLESVILLE RD/SPRING ST</td>\n",
       "      <td>39.002607</td>\n",
       "      <td>-77.024447</td>\n",
       "      <td>0</td>\n",
       "      <td>0</td>\n",
       "      <td>...</td>\n",
       "      <td>A - Marked Patrol</td>\n",
       "      <td>(39.0026066666667, -77.0244466666667)</td>\n",
       "      <td>2015-01-01</td>\n",
       "      <td>2015</td>\n",
       "      <td>1</td>\n",
       "      <td>00:57:00</td>\n",
       "      <td>0</td>\n",
       "      <td>Thursday</td>\n",
       "      <td>Winter</td>\n",
       "      <td>1</td>\n",
       "    </tr>\n",
       "    <tr>\n",
       "      <th>2</th>\n",
       "      <td>2015-01-01</td>\n",
       "      <td>2020-12-06 19:50:00</td>\n",
       "      <td>MCP</td>\n",
       "      <td>2nd District, Bethesda</td>\n",
       "      <td>FAILURE OF VEH. ON HWY. TO DISPLAY LIGHTED LAM...</td>\n",
       "      <td>OLD GEORGETOWN RD X MAPLE RIDGE RD</td>\n",
       "      <td>38.992105</td>\n",
       "      <td>-77.106178</td>\n",
       "      <td>0</td>\n",
       "      <td>0</td>\n",
       "      <td>...</td>\n",
       "      <td>A - Marked Patrol</td>\n",
       "      <td>(38.992105, -77.1061783333333)</td>\n",
       "      <td>2015-01-01</td>\n",
       "      <td>2015</td>\n",
       "      <td>1</td>\n",
       "      <td>19:50:00</td>\n",
       "      <td>19</td>\n",
       "      <td>Thursday</td>\n",
       "      <td>Winter</td>\n",
       "      <td>1</td>\n",
       "    </tr>\n",
       "    <tr>\n",
       "      <th>3</th>\n",
       "      <td>2015-01-01</td>\n",
       "      <td>2020-12-06 05:08:00</td>\n",
       "      <td>MCP</td>\n",
       "      <td>4th District, Wheaton</td>\n",
       "      <td>DRIVING VEHICLE WHILE UNDER THE INFLUENCE OF A...</td>\n",
       "      <td>CONNECTICUT AT DEAN</td>\n",
       "      <td>39.061860</td>\n",
       "      <td>-77.044693</td>\n",
       "      <td>0</td>\n",
       "      <td>0</td>\n",
       "      <td>...</td>\n",
       "      <td>A - Marked Patrol</td>\n",
       "      <td>(39.06186, -77.0446933333333)</td>\n",
       "      <td>2015-01-01</td>\n",
       "      <td>2015</td>\n",
       "      <td>1</td>\n",
       "      <td>05:08:00</td>\n",
       "      <td>5</td>\n",
       "      <td>Thursday</td>\n",
       "      <td>Winter</td>\n",
       "      <td>1</td>\n",
       "    </tr>\n",
       "    <tr>\n",
       "      <th>4</th>\n",
       "      <td>2015-01-01</td>\n",
       "      <td>2020-12-06 20:44:00</td>\n",
       "      <td>MCP</td>\n",
       "      <td>2nd District, Bethesda</td>\n",
       "      <td>DRIVER MAKING IMPROPER TURN AT INTERSECTION</td>\n",
       "      <td>OLD GEORGETOWN RD X RYLAND DR</td>\n",
       "      <td>39.012315</td>\n",
       "      <td>-77.116558</td>\n",
       "      <td>0</td>\n",
       "      <td>0</td>\n",
       "      <td>...</td>\n",
       "      <td>A - Marked Patrol</td>\n",
       "      <td>(39.012315, -77.1165583333333)</td>\n",
       "      <td>2015-01-01</td>\n",
       "      <td>2015</td>\n",
       "      <td>1</td>\n",
       "      <td>20:44:00</td>\n",
       "      <td>20</td>\n",
       "      <td>Thursday</td>\n",
       "      <td>Winter</td>\n",
       "      <td>1</td>\n",
       "    </tr>\n",
       "  </tbody>\n",
       "</table>\n",
       "<p>5 rows × 43 columns</p>\n",
       "</div>"
      ],
      "text/plain": [
       "  DateOfStop          TimeOfStop Agency                    SubAgency  \\\n",
       "0 2015-01-01 2020-12-06 06:12:00    MCP        4th District, Wheaton   \n",
       "1 2015-01-01 2020-12-06 00:57:00    MCP  3rd District, Silver Spring   \n",
       "2 2015-01-01 2020-12-06 19:50:00    MCP       2nd District, Bethesda   \n",
       "3 2015-01-01 2020-12-06 05:08:00    MCP        4th District, Wheaton   \n",
       "4 2015-01-01 2020-12-06 20:44:00    MCP       2nd District, Bethesda   \n",
       "\n",
       "                                         Description  \\\n",
       "0                  DRIVING WHILE IMPAIRED BY ALCOHOL   \n",
       "1  FAILURE OF VEH. ON HWY. TO DISPLAY LIGHTED LAM...   \n",
       "2  FAILURE OF VEH. ON HWY. TO DISPLAY LIGHTED LAM...   \n",
       "3  DRIVING VEHICLE WHILE UNDER THE INFLUENCE OF A...   \n",
       "4        DRIVER MAKING IMPROPER TURN AT INTERSECTION   \n",
       "\n",
       "                             Location   Latitude  Longitude  Accident  Belts  \\\n",
       "0         VEIRS MILL RD @ ENNALLS AVE  39.058653 -77.047795         0      0   \n",
       "1             COLESVILLE RD/SPRING ST  39.002607 -77.024447         0      0   \n",
       "2  OLD GEORGETOWN RD X MAPLE RIDGE RD  38.992105 -77.106178         0      0   \n",
       "3                 CONNECTICUT AT DEAN  39.061860 -77.044693         0      0   \n",
       "4       OLD GEORGETOWN RD X RYLAND DR  39.012315 -77.116558         0      0   \n",
       "\n",
       "   ...         ArrestType                            Geolocation       date  \\\n",
       "0  ...  A - Marked Patrol         (39.0586533333333, -77.047795) 2015-01-01   \n",
       "1  ...  A - Marked Patrol  (39.0026066666667, -77.0244466666667) 2015-01-01   \n",
       "2  ...  A - Marked Patrol         (38.992105, -77.1061783333333) 2015-01-01   \n",
       "3  ...  A - Marked Patrol          (39.06186, -77.0446933333333) 2015-01-01   \n",
       "4  ...  A - Marked Patrol         (39.012315, -77.1165583333333) 2015-01-01   \n",
       "\n",
       "   year  month      time  hour       day  season Violation  \n",
       "0  2015      1  06:12:00     6  Thursday  Winter         1  \n",
       "1  2015      1  00:57:00     0  Thursday  Winter         1  \n",
       "2  2015      1  19:50:00    19  Thursday  Winter         1  \n",
       "3  2015      1  05:08:00     5  Thursday  Winter         1  \n",
       "4  2015      1  20:44:00    20  Thursday  Winter         1  \n",
       "\n",
       "[5 rows x 43 columns]"
      ]
     },
     "execution_count": 10,
     "metadata": {},
     "output_type": "execute_result"
    }
   ],
   "source": [
    "traffic_final.head()"
   ]
  },
  {
   "cell_type": "code",
   "execution_count": 11,
   "metadata": {},
   "outputs": [],
   "source": [
    "#traffic_new[obj_traffic_new]=traffic_new[obj_traffic_new].fillna(\"other\")\n",
    "#traffic_new = traffic_new.fillna(\"\")\n",
    "#traffic_new.head()"
   ]
  },
  {
   "cell_type": "code",
   "execution_count": 12,
   "metadata": {},
   "outputs": [
    {
     "name": "stdout",
     "output_type": "stream",
     "text": [
      "Size of the original data frame: (1126056, 43)\n",
      "Size of the original data frame from 2015-2019: (1061185, 43)\n",
      "Size of the original data frame for the year 2020: (64871, 43)\n"
     ]
    }
   ],
   "source": [
    "is_2020 = traffic_final['year']==2020\n",
    "is_2019 = traffic_final['year'] != 2020\n",
    "#Creating Dataframe only for the year 2020\n",
    "traffic_final_2020 = traffic_final[is_2020]\n",
    "#Data from 2015- 2019\n",
    "traffic_final_2019 = traffic_final[is_2019]\n",
    "print(\"Size of the original data frame:\", traffic_final.shape)\n",
    "print(\"Size of the original data frame from 2015-2019:\", traffic_final_2019.shape)\n",
    "print(\"Size of the original data frame for the year 2020:\", traffic_final_2020.shape)"
   ]
  },
  {
   "cell_type": "code",
   "execution_count": 13,
   "metadata": {},
   "outputs": [
    {
     "data": {
      "image/png": "[encoded data removed]",
      "text/plain": [
       "<Figure size 1080x720 with 2 Axes>"
      ]
     },
     "metadata": {
      "needs_background": "light"
     },
     "output_type": "display_data"
    }
   ],
   "source": [
    "weekdays = ['Monday', 'Tuesday','Wednesday','Thursday', 'Friday', 'Saturday', 'Sunday']\n",
    "violationweekday = traffic_final_2019.groupby(['year', 'day']).size()\n",
    "#Reshape using unstack() function in Pandas python: \n",
    "violationweekday = violationweekday.rename_axis(['year', 'day'])\\\n",
    "                               .unstack('day')\\\n",
    "                               .reindex(columns=weekdays)\n",
    "plt.figure(figsize=(15,10))\n",
    "sns.heatmap(violationweekday, cmap='plasma_r')\n",
    "plt.title('\\n Violation by Weekday per Year (2015 - 2019)\\n', fontsize=14, fontweight='bold')\n",
    "plt.xticks(fontsize=12)\n",
    "plt.yticks(fontsize=12)\n",
    "plt.xlabel('')\n",
    "plt.ylabel('')\n",
    "plt.savefig('images/violationsbyweekdayperyear.jpg')\n",
    "plt.show()"
   ]
  },
  {
   "cell_type": "code",
   "execution_count": 14,
   "metadata": {},
   "outputs": [
    {
     "data": {
      "image/png": "[encoded data removed]",
      "text/plain": [
       "<Figure size 1080x720 with 2 Axes>"
      ]
     },
     "metadata": {
      "needs_background": "light"
     },
     "output_type": "display_data"
    }
   ],
   "source": [
    "weekdays = ['Monday', 'Tuesday','Wednesday','Thursday', 'Friday', 'Saturday', 'Sunday']\n",
    "violationweekday = traffic_final_2020.groupby(['month', 'day']).size()\n",
    "#Reshape using unstack() function in Pandas python: \n",
    "violationweekday = violationweekday.rename_axis(['year', 'day'])\\\n",
    "                               .unstack('day')\\\n",
    "                               .reindex(columns=weekdays)\n",
    "plt.figure(figsize=(15,10))\n",
    "sns.heatmap(violationweekday, cmap='plasma_r')\n",
    "plt.title('\\n Violation by Weekday per month for the year 2020 \\n', fontsize=14, fontweight='bold')\n",
    "plt.xticks(fontsize=12)\n",
    "plt.yticks(fontsize=12)\n",
    "plt.xlabel('')\n",
    "plt.ylabel('')\n",
    "plt.savefig('images/violationsbyweekdayperyear.jpg')\n",
    "plt.show()"
   ]
  },
  {
   "cell_type": "code",
   "execution_count": 15,
   "metadata": {},
   "outputs": [
    {
     "data": {
      "text/plain": [
       "Index(['DateOfStop', 'TimeOfStop', 'Agency', 'SubAgency', 'Description',\n",
       "       'Location', 'Latitude', 'Longitude', 'Accident', 'Belts',\n",
       "       'PersonalInjury', 'PropertyDamage', 'Fatal', 'CommercialLicense',\n",
       "       'HAZMAT', 'CommercialVehicle', 'Alcohol', 'WorkZone', 'State',\n",
       "       'VehicleType', 'Year_model', 'Make', 'Model', 'Color', 'ViolationType',\n",
       "       'Charge', 'Article', 'ContributedToAccident', 'Race', 'Gender',\n",
       "       'DriverCity', 'DriverState', 'DLState', 'ArrestType', 'Geolocation',\n",
       "       'date', 'year', 'month', 'time', 'hour', 'day', 'season', 'Violation'],\n",
       "      dtype='object')"
      ]
     },
     "execution_count": 15,
     "metadata": {},
     "output_type": "execute_result"
    }
   ],
   "source": [
    "traffic_final.columns"
   ]
  },
  {
   "cell_type": "code",
   "execution_count": 16,
   "metadata": {},
   "outputs": [],
   "source": [
    "#def get_summary_statistics(dataset):\n",
    "\n",
    "\n",
    "#    mean = np.round(np.mean(dataset), 2)\n",
    "#    median = np.round(np.median(dataset), 2)\n",
    "#    min_value = np.round(dataset.min(), 2)\n",
    "#    max_value = np.round(dataset.max(), 2)\n",
    "#    quartile_1 = np.round(dataset.quantile(0.25), 2)\n",
    "#    quartile_3 = np.round(dataset.quantile(0.75), 2)\n",
    "#    # Interquartile range\n",
    "#    iqr = np.round(quartile_3 - quartile_1, 2)\n",
    "#     print('Min: %s' % min_value)\n",
    "#     print('Mean: %s' % mean)# # \n",
    "#     print('Max: %s' % max_va# # lue# )\n",
    "#     print('25th percentile: # # %s'#  % quartile_1)\n",
    "#     print('Median: %s' % med# ia# n)\n",
    "#     print('75th percentile: %s# # ' % quartile_3)\n",
    "#     print('Interquartile ran# # ge (IQR): %s' % iqr)\n",
    "  # # #   \n",
    "# # # # print('\\n\\n summary statistics from 2015-2020')\n",
    "# # # get_summary_statistics(traffic_final)\n",
    "# # print('\\n\\nVersicolor summary statistics from 2015-2019')\n",
    "# get_summary_statistics(traffic_final_2019)\n",
    "# p# rint('\\n\\nVersicolor summary statistics for the year 2020')\n",
    "# get_summary_statistics(traffic_final_2020)"
   ]
  },
  {
   "cell_type": "code",
   "execution_count": 17,
   "metadata": {},
   "outputs": [
    {
     "data": {
      "image/png": "[encoded data removed]",
      "text/plain": [
       "<Figure size 1080x720 with 1 Axes>"
      ]
     },
     "metadata": {
      "needs_background": "light"
     },
     "output_type": "display_data"
    }
   ],
   "source": [
    "fig, ax = plt.subplots(figsize=(15, 10))  \n",
    "sns.boxplot(x='year', y='hour', hue='Gender', data=traffic_final_2019, ax=ax)  \n",
    "plt.show()  "
   ]
  },
  {
   "cell_type": "markdown",
   "metadata": {},
   "source": [
    "# Machine Learning - Traffic Violation"
   ]
  },
  {
   "cell_type": "code",
   "execution_count": 18,
   "metadata": {},
   "outputs": [],
   "source": [
    "#CRNM_ML = CRNM_new.replace({'InjurySeverity' : {'SUSPECTED MINOR INJURY' : 'SUSPECTED_M_INJURY' , 'POSSIBLE INJURY': 'POSSIBLE_INJURY', 'SUSPECTED SERIOUS INJURY' : 'SUSPECTED_S_INJURY', 'NO APPARENT INJURY' : 'NO_APPARENT_INJURY','FATAL INJURY' : 'FATAL_INJURY' }})\n",
    "traffic_ML_2019 = traffic_final_2019.copy()\n",
    "traffic_ML_2020 = traffic_final_2020.copy()"
   ]
  },
  {
   "cell_type": "markdown",
   "metadata": {},
   "source": [
    "# Binomial Classification : Can we predict drivers that are male with a Machine Learning model?"
   ]
  },
  {
   "cell_type": "code",
   "execution_count": 19,
   "metadata": {},
   "outputs": [
    {
     "name": "stdout",
     "output_type": "stream",
     "text": [
      "Violation Type for females in the year 2020:\n",
      " Warning     12568\n",
      "Citation     6691\n",
      "ESERO         570\n",
      "Name: ViolationType, dtype: int64\n",
      "-------------------------------\n",
      "Violation Type for males in the year 2020:\n",
      " Warning     22912\n",
      "Citation    20481\n",
      "ESERO        1435\n",
      "Name: ViolationType, dtype: int64\n",
      "-------------------------------\n",
      "Violation Type for females from 2015-2019:\n",
      " Warning     206902\n",
      "Citation    123985\n",
      "ESERO        15734\n",
      "Name: ViolationType, dtype: int64\n",
      "-------------------------------\n",
      "Violation Type for males from 2015-2019:\n",
      " Warning     363836\n",
      "Citation    313890\n",
      "ESERO        35408\n",
      "Name: ViolationType, dtype: int64\n"
     ]
    }
   ],
   "source": [
    "# Create a DataFrame of female drivers\n",
    "female_2020 = traffic_ML_2020[traffic_final_2020.Gender == 'F']\n",
    "\n",
    "# Create a DataFrame of male drivers\n",
    "male_2020 = traffic_ML_2020[traffic_final_2020.Gender == 'M']\n",
    "\n",
    "# Create a DataFrame of female drivers\n",
    "female_2019 = traffic_ML_2019[traffic_final_2019.Gender == 'F']\n",
    "\n",
    "# Create a DataFrame of male drivers\n",
    "male_2019 = traffic_ML_2019[traffic_final_2019.Gender == 'M']\n",
    "\n",
    "# Compute the violation types by female drivers (as proportions)\n",
    "print(\"Violation Type for females in the year 2020:\\n\", female_2020.ViolationType.value_counts())\n",
    "\n",
    "print('-------------------------------')\n",
    "\n",
    "# Compute the violation types by male drivers (as proportions)\n",
    "print(\"Violation Type for males in the year 2020:\\n\", male_2020.ViolationType.value_counts())\n",
    "print('-------------------------------')\n",
    "\n",
    "# Compute the violations by female drivers (as proportions)\n",
    "print(\"Violation Type for females from 2015-2019:\\n\", female_2019.ViolationType.value_counts())\n",
    "\n",
    "print('-------------------------------')\n",
    "\n",
    "# Compute the violations by male drivers (as proportions)\n",
    "print(\"Violation Type for males from 2015-2019:\\n\", male_2019.ViolationType.value_counts())\n",
    "\n"
   ]
  },
  {
   "cell_type": "code",
   "execution_count": 20,
   "metadata": {},
   "outputs": [
    {
     "name": "stdout",
     "output_type": "stream",
     "text": [
      "percentage of male from 2015-2019 : 67.29234587239503\n",
      "percentage of female from 2015-2019 : 32.70765412760496\n",
      "........................................................................\n",
      "percentage of male in the year 2020 : 69.33201354841702\n",
      "percentage of female in the year 2020 : 30.66798645158297\n"
     ]
    }
   ],
   "source": [
    "count_male_2019 = len(traffic_ML_2019[traffic_final_2019['Gender']=='M'])\n",
    "count_female_2019 = len(traffic_ML_2019[traffic_final_2019['Gender']=='F'])\n",
    "perc_of_male_2019 = count_male_2019/(count_male_2019+count_female_2019)\n",
    "print(\"percentage of male from 2015-2019 :\", perc_of_male_2019*100)\n",
    "perc_of_female_2019 = count_female_2019/(count_male_2019+count_female_2019)\n",
    "print(\"percentage of female from 2015-2019 :\", perc_of_female_2019*100)\n",
    "print(\"........................................................................\")\n",
    "count_male_2020 = len(traffic_final_2020[traffic_final_2020['Gender']=='M'])\n",
    "count_female_2020 = len(traffic_final_2020[traffic_final_2020['Gender']=='F'])\n",
    "perc_of_male_2020 = count_male_2020/(count_male_2020+count_female_2020)\n",
    "print(\"percentage of male in the year 2020 :\", perc_of_male_2020*100)\n",
    "perc_of_female_2020 = count_female_2020/(count_male_2020+count_female_2020)\n",
    "print(\"percentage of female in the year 2020 :\", perc_of_female_2020*100)"
   ]
  },
  {
   "cell_type": "markdown",
   "metadata": {},
   "source": [
    "We observe hear that classes are imbalanced. Ratio of male to female instances is 67:32 (from 2015-2019). It is interesting to note that percentage of male increased in the year 2020 and decreased for female."
   ]
  },
  {
   "cell_type": "code",
   "execution_count": 21,
   "metadata": {},
   "outputs": [],
   "source": [
    "traffic_ML_2019_Gender=traffic_ML_2019[['ViolationType', 'Race', 'Color', 'VehicleType','Gender']]\n",
    "traffic_ML_2019_Gender['Gender'] = np.where(traffic_ML_2019_Gender['Gender'].str.contains('M'), 1, 0)\n",
    "\n",
    "traffic_ML_2020_Gender=traffic_ML_2020[['ViolationType', 'Race', 'Color', 'VehicleType','Gender']]\n",
    "traffic_ML_2020_Gender['Gender'] = np.where(traffic_ML_2020_Gender['Gender'].str.contains('M'), 1, 0)"
   ]
  },
  {
   "cell_type": "code",
   "execution_count": 22,
   "metadata": {},
   "outputs": [
    {
     "data": {
      "text/html": [
       "<div>\n",
       "<style scoped>\n",
       "    .dataframe tbody tr th:only-of-type {\n",
       "        vertical-align: middle;\n",
       "    }\n",
       "\n",
       "    .dataframe tbody tr th {\n",
       "        vertical-align: top;\n",
       "    }\n",
       "\n",
       "    .dataframe thead th {\n",
       "        text-align: right;\n",
       "    }\n",
       "</style>\n",
       "<table border=\"1\" class=\"dataframe\">\n",
       "  <thead>\n",
       "    <tr style=\"text-align: right;\">\n",
       "      <th></th>\n",
       "      <th>ViolationType</th>\n",
       "      <th>Race</th>\n",
       "      <th>Color</th>\n",
       "      <th>VehicleType</th>\n",
       "      <th>Gender</th>\n",
       "    </tr>\n",
       "  </thead>\n",
       "  <tbody>\n",
       "    <tr>\n",
       "      <th>0</th>\n",
       "      <td>Citation</td>\n",
       "      <td>HISPANIC</td>\n",
       "      <td>RED</td>\n",
       "      <td>02 - Automobile</td>\n",
       "      <td>1</td>\n",
       "    </tr>\n",
       "    <tr>\n",
       "      <th>1</th>\n",
       "      <td>Warning</td>\n",
       "      <td>WHITE</td>\n",
       "      <td>SILVER</td>\n",
       "      <td>02 - Automobile</td>\n",
       "      <td>0</td>\n",
       "    </tr>\n",
       "    <tr>\n",
       "      <th>2</th>\n",
       "      <td>Warning</td>\n",
       "      <td>WHITE</td>\n",
       "      <td>BLACK</td>\n",
       "      <td>02 - Automobile</td>\n",
       "      <td>0</td>\n",
       "    </tr>\n",
       "    <tr>\n",
       "      <th>3</th>\n",
       "      <td>Citation</td>\n",
       "      <td>HISPANIC</td>\n",
       "      <td>BLACK</td>\n",
       "      <td>02 - Automobile</td>\n",
       "      <td>1</td>\n",
       "    </tr>\n",
       "    <tr>\n",
       "      <th>4</th>\n",
       "      <td>Warning</td>\n",
       "      <td>OTHER</td>\n",
       "      <td>WHITE</td>\n",
       "      <td>02 - Automobile</td>\n",
       "      <td>1</td>\n",
       "    </tr>\n",
       "  </tbody>\n",
       "</table>\n",
       "</div>"
      ],
      "text/plain": [
       "  ViolationType      Race   Color      VehicleType  Gender\n",
       "0      Citation  HISPANIC     RED  02 - Automobile       1\n",
       "1       Warning     WHITE  SILVER  02 - Automobile       0\n",
       "2       Warning     WHITE   BLACK  02 - Automobile       0\n",
       "3      Citation  HISPANIC   BLACK  02 - Automobile       1\n",
       "4       Warning     OTHER   WHITE  02 - Automobile       1"
      ]
     },
     "execution_count": 22,
     "metadata": {},
     "output_type": "execute_result"
    }
   ],
   "source": [
    "traffic_ML_2019_Gender.head()"
   ]
  },
  {
   "cell_type": "markdown",
   "metadata": {},
   "source": [
    "## Test and Train Data"
   ]
  },
  {
   "cell_type": "markdown",
   "metadata": {},
   "source": [
    "For the performance of the model the data is split into the test data and train data. The data is split using the *train_test_split.* The data here is split in the ratio 80:20.\n",
    "\n",
    "For the model prediction the logistic regression function is implemented by importing the logistic regression model in the sklearn module.\n",
    "\n",
    "The model is then fit on the train set using the fit function. After this the prediction is performed using the prediction function."
   ]
  },
  {
   "cell_type": "code",
   "execution_count": 23,
   "metadata": {},
   "outputs": [],
   "source": [
    "# Split the data into a training and test set.\n",
    "features_gender_2019=pd.get_dummies(traffic_ML_2019_Gender.drop('Gender',axis=1))\n",
    "target_gender_2019 =np.array(traffic_ML_2019_Gender['Gender'])\n",
    "X_train_g2019, X_test_g2019, y_train_g2019, y_test_g2019 = train_test_split(features_gender_2019,target_gender_2019 \n",
    "                                             ,test_size=0.20, random_state=99)\n",
    "\n",
    "features_gender_2020=pd.get_dummies(traffic_ML_2020_Gender.drop('Gender' ,axis=1))\n",
    "target_gender_2020 =np.array(traffic_ML_2020_Gender['Gender'])\n",
    "X_train_g2020, X_test_g2020, y_train_g2020, y_test_g2020 = train_test_split(features_gender_2020,target_gender_2020 \n",
    "                                             ,test_size=0.20, random_state=99)"
   ]
  },
  {
   "cell_type": "code",
   "execution_count": null,
   "metadata": {},
   "outputs": [],
   "source": []
  },
  {
   "cell_type": "code",
   "execution_count": 24,
   "metadata": {},
   "outputs": [
    {
     "name": "stdout",
     "output_type": "stream",
     "text": [
      "Accuracy score using meterics accuracy score:\n",
      "\n",
      "Accuracy  67.30%\n",
      ".............................................................\n",
      "\n",
      "Accuracy score using logistic regression model:\n",
      "\n",
      "Score of our model is 67.20%\n"
     ]
    }
   ],
   "source": [
    "logmodel=LogisticRegression()\n",
    "#logmodel=LogisticRegression(solver='liblinear', C=10.0)\n",
    "## fit the model with data\n",
    "logmodel.fit(X_train_g2019, y_train_g2019)\n",
    "y_pred_g2019 = logmodel.predict(X_test_g2019)\n",
    "\n",
    "\n",
    "print(\"Accuracy score using meterics accuracy score:\\n\")\n",
    "print(\"Accuracy  %2.2f%%\" % (metrics.accuracy_score(y_test_g2019, y_pred_g2019)*100))\n",
    "print(\".............................................................\\n\")\n",
    "print(\"Accuracy score using logistic regression model:\\n\")\n",
    "print(\"Score of our model is %2.2f%%\" % (logmodel.score(X_train_g2019, y_train_g2019) * 100))"
   ]
  },
  {
   "cell_type": "code",
   "execution_count": 25,
   "metadata": {},
   "outputs": [
    {
     "name": "stdout",
     "output_type": "stream",
     "text": [
      "              precision    recall  f1-score   support\n",
      "\n",
      "           0       0.50      0.01      0.02     69398\n",
      "           1       0.67      1.00      0.80    142839\n",
      "\n",
      "    accuracy                           0.67    212237\n",
      "   macro avg       0.59      0.50      0.41    212237\n",
      "weighted avg       0.62      0.67      0.55    212237\n",
      "\n"
     ]
    }
   ],
   "source": [
    "print(classification_report(y_test_g2019,y_pred_g2019))"
   ]
  },
  {
   "cell_type": "markdown",
   "metadata": {},
   "source": [
    "The classification report displays the **Precision, Recall , F1  and Support** scores for the model.\n",
    "\n",
    "Precision score means the the level up-to which the prediction made by the model is precise. The precision for male is 0.67 and for female is 0.54.\n",
    "\n",
    "Recall is the amount up-to which the model can predict the outcome. Recall for male is 1 and for female 0.01. "
   ]
  },
  {
   "cell_type": "code",
   "execution_count": 26,
   "metadata": {},
   "outputs": [
    {
     "name": "stdout",
     "output_type": "stream",
     "text": [
      "Accuracy score using meterics accuracy score:\n",
      "\n",
      "Accuracy  68.86%\n",
      ".............................................................\n",
      "\n",
      "Accuracy score using logistic regression model:\n",
      "\n",
      "Score of our model is 69.17%\n"
     ]
    }
   ],
   "source": [
    "logmodel.fit(X_train_g2020, y_train_g2020)\n",
    "y_pred_g2020 = logmodel.predict(X_test_g2020)\n",
    "\n",
    "\n",
    "print(\"Accuracy score using meterics accuracy score:\\n\")\n",
    "print(\"Accuracy  %2.2f%%\" % (metrics.accuracy_score(y_test_g2020, y_pred_g2020)*100))\n",
    "print(\".............................................................\\n\")\n",
    "print(\"Accuracy score using logistic regression model:\\n\")\n",
    "print(\"Score of our model is %2.2f%%\" % (logmodel.score(X_train_g2020, y_train_g2020) * 100))"
   ]
  },
  {
   "cell_type": "code",
   "execution_count": 27,
   "metadata": {},
   "outputs": [
    {
     "name": "stdout",
     "output_type": "stream",
     "text": [
      "              precision    recall  f1-score   support\n",
      "\n",
      "           0       0.49      0.01      0.02      4038\n",
      "           1       0.69      0.99      0.81      8937\n",
      "\n",
      "    accuracy                           0.69     12975\n",
      "   macro avg       0.59      0.50      0.42     12975\n",
      "weighted avg       0.63      0.69      0.57     12975\n",
      "\n"
     ]
    }
   ],
   "source": [
    "print(classification_report(y_test_g2020,y_pred_g2020))"
   ]
  },
  {
   "cell_type": "markdown",
   "metadata": {},
   "source": [
    "### Confusion Matrix\n",
    "\n",
    "Confusion matrix is a table which describes the performance of a prediction model. A confusion matrix contains the actual values and predicted values. we can use these values to calculate the accuracy score of the model."
   ]
  },
  {
   "cell_type": "code",
   "execution_count": 28,
   "metadata": {},
   "outputs": [
    {
     "data": {
      "text/plain": [
       "array([[   578,  68820],\n",
       "       [   571, 142268]], dtype=int64)"
      ]
     },
     "execution_count": 28,
     "metadata": {},
     "output_type": "execute_result"
    }
   ],
   "source": [
    "cnf_matrix_2019 = metrics.confusion_matrix(y_test_g2019,y_pred_g2019)\n",
    "cnf_matrix_2019"
   ]
  },
  {
   "cell_type": "markdown",
   "metadata": {},
   "source": [
    "### Confusion matrix heatmap"
   ]
  },
  {
   "cell_type": "code",
   "execution_count": 32,
   "metadata": {},
   "outputs": [],
   "source": [
    "#sns.heatmap(pd.DataFrame(confusion_matrix(y_test_g2019,y_pred_g2019)))\n",
    "#plt.show()"
   ]
  },
  {
   "cell_type": "code",
   "execution_count": null,
   "metadata": {},
   "outputs": [],
   "source": []
  },
  {
   "cell_type": "code",
   "execution_count": 39,
   "metadata": {},
   "outputs": [
    {
     "ename": "ValueError",
     "evalue": "X has 60 features per sample; expecting 49",
     "output_type": "error",
     "traceback": [
      "\u001b[1;31m---------------------------------------------------------------------------\u001b[0m",
      "\u001b[1;31mValueError\u001b[0m                                Traceback (most recent call last)",
      "\u001b[1;32m<ipython-input-39-d1c117a21a19>\u001b[0m in \u001b[0;36m<module>\u001b[1;34m\u001b[0m\n\u001b[0;32m      1\u001b[0m \u001b[1;32mfrom\u001b[0m \u001b[0msklearn\u001b[0m\u001b[1;33m.\u001b[0m\u001b[0mmetrics\u001b[0m \u001b[1;32mimport\u001b[0m \u001b[0mroc_curve\u001b[0m\u001b[1;33m\u001b[0m\u001b[1;33m\u001b[0m\u001b[0m\n\u001b[1;32m----> 2\u001b[1;33m \u001b[0mlogit_roc_auc\u001b[0m \u001b[1;33m=\u001b[0m \u001b[0mroc_auc_score\u001b[0m\u001b[1;33m(\u001b[0m\u001b[0my_test_g2019\u001b[0m\u001b[1;33m,\u001b[0m \u001b[0mlogmodel\u001b[0m\u001b[1;33m.\u001b[0m\u001b[0mpredict\u001b[0m\u001b[1;33m(\u001b[0m\u001b[0mX_test_g2019\u001b[0m\u001b[1;33m)\u001b[0m\u001b[1;33m)\u001b[0m\u001b[1;33m\u001b[0m\u001b[1;33m\u001b[0m\u001b[0m\n\u001b[0m\u001b[0;32m      3\u001b[0m \u001b[0mfpr\u001b[0m\u001b[1;33m,\u001b[0m \u001b[0mtpr\u001b[0m\u001b[1;33m,\u001b[0m \u001b[0mthresholds\u001b[0m \u001b[1;33m=\u001b[0m \u001b[0mroc_curve\u001b[0m\u001b[1;33m(\u001b[0m\u001b[0my_test_g2019\u001b[0m\u001b[1;33m,\u001b[0m \u001b[0mlogmodel\u001b[0m\u001b[1;33m.\u001b[0m\u001b[0mpredict_proba\u001b[0m\u001b[1;33m(\u001b[0m\u001b[0mX_test_g2019\u001b[0m\u001b[1;33m)\u001b[0m\u001b[1;33m[\u001b[0m\u001b[1;33m:\u001b[0m\u001b[1;33m,\u001b[0m\u001b[1;36m1\u001b[0m\u001b[1;33m]\u001b[0m\u001b[1;33m)\u001b[0m\u001b[1;33m\u001b[0m\u001b[1;33m\u001b[0m\u001b[0m\n\u001b[0;32m      4\u001b[0m \u001b[0mplt\u001b[0m\u001b[1;33m.\u001b[0m\u001b[0mfigure\u001b[0m\u001b[1;33m(\u001b[0m\u001b[1;33m)\u001b[0m\u001b[1;33m\u001b[0m\u001b[1;33m\u001b[0m\u001b[0m\n\u001b[0;32m      5\u001b[0m \u001b[0mplt\u001b[0m\u001b[1;33m.\u001b[0m\u001b[0mplot\u001b[0m\u001b[1;33m(\u001b[0m\u001b[0mfpr\u001b[0m\u001b[1;33m,\u001b[0m \u001b[0mtpr\u001b[0m\u001b[1;33m,\u001b[0m \u001b[0mlabel\u001b[0m\u001b[1;33m=\u001b[0m\u001b[1;34m'Logistic Regression (area = %0.2f)'\u001b[0m \u001b[1;33m%\u001b[0m \u001b[0mlogit_roc_auc\u001b[0m\u001b[1;33m)\u001b[0m\u001b[1;33m\u001b[0m\u001b[1;33m\u001b[0m\u001b[0m\n",
      "\u001b[1;32mC:\\ProgramData\\Anaconda3\\lib\\site-packages\\sklearn\\linear_model\\base.py\u001b[0m in \u001b[0;36mpredict\u001b[1;34m(self, X)\u001b[0m\n\u001b[0;32m    287\u001b[0m             \u001b[0mPredicted\u001b[0m \u001b[1;32mclass\u001b[0m \u001b[0mlabel\u001b[0m \u001b[0mper\u001b[0m \u001b[0msample\u001b[0m\u001b[1;33m.\u001b[0m\u001b[1;33m\u001b[0m\u001b[1;33m\u001b[0m\u001b[0m\n\u001b[0;32m    288\u001b[0m         \"\"\"\n\u001b[1;32m--> 289\u001b[1;33m         \u001b[0mscores\u001b[0m \u001b[1;33m=\u001b[0m \u001b[0mself\u001b[0m\u001b[1;33m.\u001b[0m\u001b[0mdecision_function\u001b[0m\u001b[1;33m(\u001b[0m\u001b[0mX\u001b[0m\u001b[1;33m)\u001b[0m\u001b[1;33m\u001b[0m\u001b[1;33m\u001b[0m\u001b[0m\n\u001b[0m\u001b[0;32m    290\u001b[0m         \u001b[1;32mif\u001b[0m \u001b[0mlen\u001b[0m\u001b[1;33m(\u001b[0m\u001b[0mscores\u001b[0m\u001b[1;33m.\u001b[0m\u001b[0mshape\u001b[0m\u001b[1;33m)\u001b[0m \u001b[1;33m==\u001b[0m \u001b[1;36m1\u001b[0m\u001b[1;33m:\u001b[0m\u001b[1;33m\u001b[0m\u001b[1;33m\u001b[0m\u001b[0m\n\u001b[0;32m    291\u001b[0m             \u001b[0mindices\u001b[0m \u001b[1;33m=\u001b[0m \u001b[1;33m(\u001b[0m\u001b[0mscores\u001b[0m \u001b[1;33m>\u001b[0m \u001b[1;36m0\u001b[0m\u001b[1;33m)\u001b[0m\u001b[1;33m.\u001b[0m\u001b[0mastype\u001b[0m\u001b[1;33m(\u001b[0m\u001b[0mnp\u001b[0m\u001b[1;33m.\u001b[0m\u001b[0mint\u001b[0m\u001b[1;33m)\u001b[0m\u001b[1;33m\u001b[0m\u001b[1;33m\u001b[0m\u001b[0m\n",
      "\u001b[1;32mC:\\ProgramData\\Anaconda3\\lib\\site-packages\\sklearn\\linear_model\\base.py\u001b[0m in \u001b[0;36mdecision_function\u001b[1;34m(self, X)\u001b[0m\n\u001b[0;32m    268\u001b[0m         \u001b[1;32mif\u001b[0m \u001b[0mX\u001b[0m\u001b[1;33m.\u001b[0m\u001b[0mshape\u001b[0m\u001b[1;33m[\u001b[0m\u001b[1;36m1\u001b[0m\u001b[1;33m]\u001b[0m \u001b[1;33m!=\u001b[0m \u001b[0mn_features\u001b[0m\u001b[1;33m:\u001b[0m\u001b[1;33m\u001b[0m\u001b[1;33m\u001b[0m\u001b[0m\n\u001b[0;32m    269\u001b[0m             raise ValueError(\"X has %d features per sample; expecting %d\"\n\u001b[1;32m--> 270\u001b[1;33m                              % (X.shape[1], n_features))\n\u001b[0m\u001b[0;32m    271\u001b[0m \u001b[1;33m\u001b[0m\u001b[0m\n\u001b[0;32m    272\u001b[0m         scores = safe_sparse_dot(X, self.coef_.T,\n",
      "\u001b[1;31mValueError\u001b[0m: X has 60 features per sample; expecting 49"
     ]
    }
   ],
   "source": [
    "from sklearn.metrics import roc_curve\n",
    "logit_roc_auc = roc_auc_score(y_test_g2019, logmodel.predict(X_test_g2019))\n",
    "fpr, tpr, thresholds = roc_curve(y_test_g2019, logmodel.predict_proba(X_test_g2019)[:,1])\n",
    "plt.figure()\n",
    "plt.plot(fpr, tpr, label='Logistic Regression (area = %0.2f)' % logit_roc_auc)\n",
    "plt.plot([0, 1], [0, 1],'r--')\n",
    "plt.xlim([0.0, 1.0])\n",
    "plt.ylim([0.0, 1.05])\n",
    "plt.xlabel('False Positive Rate')\n",
    "plt.ylabel('True Positive Rate')\n",
    "plt.title('Receiver operating characteristic')\n",
    "plt.legend(loc=\"lower right\")\n",
    "#plt.savefig('Log_ROC')\n",
    "plt.show()"
   ]
  },
  {
   "cell_type": "markdown",
   "metadata": {},
   "source": [
    "AUC score for the case is 0.50. AUC score 1 represents perfect classifier, and 0.5 is not good classifier. Thus, our model is not a very good classifier."
   ]
  },
  {
   "cell_type": "code",
   "execution_count": 34,
   "metadata": {},
   "outputs": [
    {
     "data": {
      "image/png": "[encoded data removed]",
      "text/plain": [
       "<Figure size 432x288 with 1 Axes>"
      ]
     },
     "metadata": {
      "needs_background": "light"
     },
     "output_type": "display_data"
    }
   ],
   "source": [
    "rf = RandomForestClassifier()\n",
    "lr = LogisticRegression()\n",
    "nb = GaussianNB()\n",
    "svm = LinearSVC()\n",
    "rf_probas = rf.fit(X_train_g2019, y_train_g2019).predict_proba(X_test_g2019)\n",
    "lr_probas = lr.fit(X_train_g2019, y_train_g2019).predict_proba(X_test_g2019)\n",
    "nb_probas = nb.fit(X_train_g2019, y_train_g2019).predict_proba(X_test_g2019)\n",
    "svm_scores = svm.fit(X_train_g2019, y_train_g2019).decision_function(X_test_g2019)\n",
    "probas_list = [rf_probas, lr_probas, nb_probas, svm_scores]\n",
    "clf_names = ['Random Forest', 'Logistic Regression',\n",
    "             'Gaussian Naive Bayes', 'Support Vector Machine']\n",
    "skplt.metrics.plot_calibration_curve(y_test_g2019,\n",
    "                                      probas_list,\n",
    "                                      clf_names)\n",
    "plt.show()"
   ]
  },
  {
   "cell_type": "markdown",
   "metadata": {},
   "source": [
    "### Cumulative Gain Curve\n",
    "The cumulative gains chart also used to determine the effectiveness of a binary classifier."
   ]
  },
  {
   "cell_type": "code",
   "execution_count": 35,
   "metadata": {
    "scrolled": false
   },
   "outputs": [
    {
     "data": {
      "image/png": "[encoded data removed]",
      "text/plain": [
       "<Figure size 432x288 with 1 Axes>"
      ]
     },
     "metadata": {
      "needs_background": "light"
     },
     "output_type": "display_data"
    }
   ],
   "source": [
    "lr = LogisticRegression()\n",
    "lr = lr.fit(X_train_g2019, y_train_g2019)\n",
    "y_probas_g2019 = lr.predict_proba(X_test_g2019)\n",
    "skplt.metrics.plot_cumulative_gain(y_test_g2019, y_probas_g2019)\n",
    "plt.show()"
   ]
  },
  {
   "cell_type": "code",
   "execution_count": null,
   "metadata": {},
   "outputs": [],
   "source": [
    "!pip install plot_metric"
   ]
  },
  {
   "cell_type": "code",
   "execution_count": 44,
   "metadata": {},
   "outputs": [
    {
     "data": {
      "image/png": "[encoded data removed]",
      "text/plain": [
       "<Figure size 360x360 with 1 Axes>"
      ]
     },
     "metadata": {},
     "output_type": "display_data"
    }
   ],
   "source": [
    "from plot_metric.functions import BinaryClassification\n",
    "# Visualisation with plot_metric\n",
    "bc = BinaryClassification(y_test_g2019, y_pred_g2019, labels=[\"Class 0\", \"Class 1\"])\n",
    "\n",
    "# Figures\n",
    "plt.figure(figsize=(5,5))\n",
    "bc.plot_roc_curve()\n",
    "plt.show()"
   ]
  },
  {
   "cell_type": "markdown",
   "metadata": {},
   "source": [
    "###### When AUC is approximately 0.5, model has no discrimination capacity to distinguish between positive class and negative class. \n",
    "\n",
    "When AUC=0.5, then the classifier is not able to distinguish between Positive and Negative class points. Meaning either the classifier is predicting random class or constant class for all the data points."
   ]
  },
  {
   "cell_type": "markdown",
   "metadata": {},
   "source": [
    "# Multinomial Classification : Can we predict Violation Type?"
   ]
  },
  {
   "cell_type": "code",
   "execution_count": 45,
   "metadata": {},
   "outputs": [],
   "source": [
    "# Split the data into a training and test set.\n",
    "features_vtype_2019=pd.get_dummies(traffic_ML_2019_Gender.drop('ViolationType' ,axis=1))\n",
    "target_vtype_2019 = np.array((traffic_ML_2019_Gender['ViolationType']))\n",
    "\n",
    "X_train_vt2019, X_test_vt2019, y_train_vt2019, y_test_vt2019 = train_test_split(features_vtype_2019,target_vtype_2019 \n",
    "                                             ,test_size=0.20, random_state=99)\n",
    "\n",
    "features_vtype_2020=pd.get_dummies(traffic_ML_2020_Gender.drop('ViolationType' ,axis=1))\n",
    "target_vtype_2020 =np.array(traffic_ML_2020_Gender['ViolationType'])\n",
    "\n",
    "X_train_vt2020, X_test_vt2020, y_train_vt2020, y_test_vt2020 = train_test_split(features_vtype_2020,target_vtype_2020 \n",
    "                                             ,test_size=0.20, random_state=99)"
   ]
  },
  {
   "cell_type": "code",
   "execution_count": null,
   "metadata": {},
   "outputs": [],
   "source": []
  },
  {
   "cell_type": "code",
   "execution_count": 46,
   "metadata": {},
   "outputs": [
    {
     "name": "stdout",
     "output_type": "stream",
     "text": [
      "Accuracy score using meterics accuracy score:\n",
      "\n",
      "Accuracy  55.54%\n",
      "Accuracy score using multinominal logistic regression model:\n",
      "\n",
      "Score of our model is 55.51%\n"
     ]
    }
   ],
   "source": [
    "#fit model fort multi class\n",
    "#mult_logmodel = OneVsRestClassifier(LogisticRegression())\n",
    "mult_logmodel = LogisticRegression(solver='lbfgs',multi_class='multinomial')\n",
    "mult_logmodel.fit(X_train_vt2019, y_train_vt2019)\n",
    "y_pred_vt2019 = mult_logmodel.predict(X_test_vt2019)\n",
    "y_pred_prob_vt2019 = mult_logmodel.predict_proba(X_test_vt2019)\n",
    "\n",
    "print(\"Accuracy score using meterics accuracy score:\\n\")\n",
    "print(\"Accuracy  %2.2f%%\" % (metrics.accuracy_score(y_test_vt2019, y_pred_vt2019) * 100))\n",
    "\n",
    "print(\"Accuracy score using multinominal logistic regression model:\\n\")\n",
    "print(\"Score of our model is %2.2f%%\" % (mult_logmodel.score(X_train_vt2019, y_train_vt2019) * 100))\n",
    "\n"
   ]
  },
  {
   "cell_type": "code",
   "execution_count": 47,
   "metadata": {},
   "outputs": [
    {
     "data": {
      "text/plain": [
       "<matplotlib.legend.Legend at 0x1602f273d08>"
      ]
     },
     "execution_count": 47,
     "metadata": {},
     "output_type": "execute_result"
    },
    {
     "data": {
      "image/png": "[encoded data removed]",
      "text/plain": [
       "<Figure size 432x288 with 1 Axes>"
      ]
     },
     "metadata": {},
     "output_type": "display_data"
    }
   ],
   "source": [
    "fpr = {}\n",
    "tpr = {}\n",
    "thresh = {}\n",
    "n_class = 3\n",
    "for i in range(n_class):    \n",
    "    fpr[i], tpr[i], thresh[i] = roc_curve(y_test_vt2019, y_pred_prob_vt2019[:,i], pos_label=i)\n",
    "    \n",
    "# plotting  \n",
    "plt.plot(fpr[0], tpr[0], linestyle='--',color='orange', label='Class 0 vs Rest')\n",
    "plt.plot(fpr[1], tpr[1], linestyle='--',color='green', label='Class 1 vs Rest')\n",
    "plt.plot(fpr[2], tpr[2], linestyle='--',color='blue', label='Class 2 vs Rest')\n",
    "plt.title('Multiclass ROC curve')\n",
    "plt.xlabel('False Positive Rate')\n",
    "plt.ylabel('True Positive rate')\n",
    "plt.legend(loc='best')"
   ]
  },
  {
   "cell_type": "code",
   "execution_count": 48,
   "metadata": {},
   "outputs": [
    {
     "data": {
      "text/plain": [
       "array([[20569,    39, 66889],\n",
       "       [ 2403,   123,  7788],\n",
       "       [17164,    87, 97175]], dtype=int64)"
      ]
     },
     "execution_count": 48,
     "metadata": {},
     "output_type": "execute_result"
    }
   ],
   "source": [
    "cnf_matrix_2019_multiclass = metrics.confusion_matrix(y_test_vt2019,y_pred_vt2019)\n",
    "cnf_matrix_2019_multiclass"
   ]
  },
  {
   "cell_type": "markdown",
   "metadata": {},
   "source": [
    "### ROC Curve for multi-class"
   ]
  },
  {
   "cell_type": "code",
   "execution_count": null,
   "metadata": {
    "scrolled": false
   },
   "outputs": [],
   "source": [
    "#visualizer = ROCAUC(mult_logmodel, classes=[\"Warning\", \"Citation\", \"ESERO\"])\n",
    "\n",
    "#visualizer.fit(X_train_vt2019, y_train_vt2019)        # Fit the training data to the visualizer\n",
    "#visualizer.score(X_test_vt2019, y_test_vt2019)        # Evaluate the model on the test data\n",
    "#visualizer.show()                       # Finalize and render the figure\n",
    "#roc_auc(multlogmodel, X_train_vt2019, y_train_vt2019, X_test_vt2019=X_test_vt2019, y_test_vt2019=y_test_vt2019, classes=[\"Warning\", \"Citation\", \"ESERO\"])"
   ]
  },
  {
   "cell_type": "code",
   "execution_count": null,
   "metadata": {},
   "outputs": [],
   "source": [
    "traffic_ML_2019_Gender['ViolationType'].value_counts()"
   ]
  },
  {
   "cell_type": "code",
   "execution_count": null,
   "metadata": {},
   "outputs": [],
   "source": [
    "#print(\"ROC score\",roc_auc_score(y_test, y_pred))\n",
    "#print(\"F1 score\",f1_score(y_test, y_pred))"
   ]
  },
  {
   "cell_type": "markdown",
   "metadata": {},
   "source": [
    "# Multinomial Classification : Can we predict Vehicle Type?"
   ]
  },
  {
   "cell_type": "code",
   "execution_count": null,
   "metadata": {},
   "outputs": [],
   "source": [
    "# Split the data into a training and test set.\n",
    "from sklearn.multiclass import OneVsRestClassifier\n",
    "\n",
    "features_vehicle_2019=pd.get_dummies(traffic_ML_2019_Gender.drop('VehicleType' ,axis=1))\n",
    "target_vehicle_2019 = np.array((traffic_ML_2019_Gender['VehicleType']))\n",
    "\n",
    "X_train_V2019, X_test_V2019, y_train_V2019, y_test_V2019 = train_test_split(features_vehicle_2019,target_vehicle_2019 \n",
    "                                             ,test_size=0.20, random_state=99)\n",
    "\n",
    "features_vehicle_2020=pd.get_dummies(traffic_ML_2020_Gender.drop('VehicleType' ,axis=1))\n",
    "target_vehicle_2020 =np.array(traffic_ML_2020_Gender['VehicleType'])\n",
    "\n",
    "X_train_V2020, X_test_V2020, y_train_V2020, y_test_V2020 = train_test_split(features_vehicle_2020,target_vehicle_2020 \n",
    "                                             ,test_size=0.20, random_state=99)"
   ]
  },
  {
   "cell_type": "code",
   "execution_count": null,
   "metadata": {},
   "outputs": [],
   "source": [
    "#fit model fort multi class\n",
    "#mult_logmodel = OneVsRestClassifier(LogisticRegression())\n",
    "mult_logmodel = LogisticRegression(solver='lbfgs',multi_class='multinomial')\n",
    "mult_logmodel.fit(X_train_V2019, y_train_V2019)\n",
    "y_pred_V2019 = mult_logmodel.predict(X_test_V2019)\n",
    "y_pred_prob_V2019 = mult_logmodel.predict_proba(X_test_V2019)\n",
    "\n",
    "print(\"Accuracy score using meterics accuracy score:\\n\")\n",
    "print(\"Accuracy  %2.2f%%\" % (metrics.accuracy_score(y_test_V2019, y_pred_V2019) * 100))\n",
    "\n",
    "print(\"Accuracy score using logistic regression model:\\n\")\n",
    "print(\"Score of our model is %2.2f%%\" % (mult_logmodel.score(X_train_V2019, y_train_V2019) * 100))\n"
   ]
  },
  {
   "cell_type": "markdown",
   "metadata": {},
   "source": [
    "**The score is the percentage of correct predictions in the test set. 90% is pretty good.**"
   ]
  },
  {
   "cell_type": "code",
   "execution_count": null,
   "metadata": {},
   "outputs": [],
   "source": [
    "#y_pred_prob_V2019_a = mult_logmodel.predict_proba(X_test_V2019)[:,0]# for calculating the probability of the first class\n",
    "#y_pred_prob_V2019_b = mult_logmodel.predict_proba(X_test_V2019)[:,1] # for calculating the probability of the second class\n",
    "\n",
    "#fpr, tpr, thresholds = metrics.roc_curve(1-y_test_V2019,y_pred_prob_V2019_a)\n",
    "#auc=metrics.auc(fpr, tpr)\n",
    "#print(\"auc for the first class\",auc)\n",
    "\n",
    "#fpr2, tpr2, thresholds2 = metrics.roc_curve(y_test_V2019,y_pred_brob_V2019_b)\n",
    "#auc2=metrics.auc(fpr2, tpr2)\n",
    "#print(\"auc for the second class\",auc2)\n",
    "\n",
    "# ploting the roc curve\n",
    "#plt.plot(fpr,tpr)\n",
    "#plt.plot(fpr2,tpr2)\n",
    "\n",
    "#plt.xlim([0.0,1.0])\n",
    "#plt.ylim([0.0,1.0])\n",
    "#plt.title('Roc curve')\n",
    "#plt.xlabel('False positive rate')\n",
    "#plt.ylabel('True positive rate')\n",
    "#plt.legend(loc=\"lower right\")\n",
    "#plt.show()"
   ]
  },
  {
   "cell_type": "markdown",
   "metadata": {},
   "source": [
    "# Crash Incident Data\n",
    "https://data.montgomerycountymd.gov/Public-Safety/Crash-Reporting-Incidents-Data/bhju-22kf\n",
    "\n",
    "https://data.montgomerycountymd.gov/Public-Safety/Crash-Reporting-Non-Motorists-Data/n7fk-dce5"
   ]
  },
  {
   "cell_type": "markdown",
   "metadata": {
    "scrolled": true
   },
   "source": [
    "# 2. Crash Reporting – Motorists Data "
   ]
  },
  {
   "cell_type": "code",
   "execution_count": null,
   "metadata": {},
   "outputs": [],
   "source": [
    "    # Reading csv file\n",
    "    #CRI= pd.read_csv(\"Crash_Reporting_-_Incidents_Data.csv\")\n",
    "    \n",
    "    ## Downloading & Reading csv file from website\n",
    "    url_CRI = 'https://data.montgomerycountymd.gov/api/views/bhju-22kf/rows.csv?accessType=DOWNLOAD'\n",
    "    CRI = pd.read_csv(url_CRI,low_memory=False)"
   ]
  },
  {
   "cell_type": "code",
   "execution_count": null,
   "metadata": {},
   "outputs": [],
   "source": [
    "\"\"\"\" UseFeatues() Function when called, returns a dataframe with additional features\"\"\"\n",
    "\n",
    "def useFeatures(CRI):\n",
    "\n",
    "    ## Formatting the Date\n",
    "    \n",
    "    # Confirm the date column is in datetime format\n",
    "    CRI['Crash Date/Time'] = pd.to_datetime(CRI['Crash Date/Time'])\n",
    "   \n",
    "    # creating  new columns: date, year, month, day, time \n",
    "    CRI['date'] = pd.to_datetime(CRI['Crash Date/Time'])\n",
    "    CRI['year'] = CRI['Crash Date/Time'].dt.year\n",
    "    CRI['month'] = CRI['Crash Date/Time'].dt.month\n",
    "    CRI['time'] = CRI['Crash Date/Time'].dt.time\n",
    "    CRI['hour'] = CRI['Crash Date/Time'].dt.hour\n",
    "    #CRI['day'] = CRI['Crash Date/Time'].dt.weekday_name\n",
    "    CRI['day'] = CRI['Crash Date/Time'].dt.day_name()\n",
    "    \n",
    "    CRI = CRI.sort_values(by='date')\n",
    "    \n",
    "\n",
    "    \n",
    "    ## Filtering the Desired Date Range - 2015 to 2020 ##\n",
    "    CRI = CRI[CRI.date >='01/01/2015']\n",
    "    CRI = CRI[CRI.date <'12/02/2020']\n",
    "    CRI = CRI.reset_index(drop=True)\n",
    "    \n",
    "    CRI['season']= \"Fall\"\n",
    "    CRI.loc[(CRI['month'] < 3) | (CRI['month'] >= 12), \"season\"] = 'Winter'\n",
    "    CRI.loc[(CRI['month'] < 6) & (CRI['month'] >= 3), \"season\"] = 'Spring'\n",
    "    CRI.loc[(CRI['month'] < 9) & (CRI['month'] >= 6), \"season\"] = 'Summer'\n",
    "    \n",
    "    ## Hour status\n",
    "    ##traffic[\"hourStatus\"] = \"Evening\"\n",
    "    ## traffic.loc[( traffic[\"hour\"] < 18) & ( traffic[\"wdayStatus\"] == \"Weekday\"), \"hourStatus\"]=\"WorkHour\"\n",
    "    \n",
    "    #Creating a new column to count the total number of violation\n",
    "    CRI['crash'] = pd.Series(1, index=CRI.index)\n",
    "    \n",
    "    return CRI"
   ]
  },
  {
   "cell_type": "code",
   "execution_count": null,
   "metadata": {},
   "outputs": [],
   "source": [
    "# All the above features are stored in new data frame \"CRI_features\"\n",
    "CRI_features = useFeatures(CRI)"
   ]
  },
  {
   "cell_type": "code",
   "execution_count": null,
   "metadata": {},
   "outputs": [],
   "source": []
  },
  {
   "cell_type": "code",
   "execution_count": null,
   "metadata": {},
   "outputs": [],
   "source": []
  },
  {
   "cell_type": "code",
   "execution_count": null,
   "metadata": {},
   "outputs": [],
   "source": []
  },
  {
   "cell_type": "code",
   "execution_count": null,
   "metadata": {},
   "outputs": [],
   "source": []
  },
  {
   "cell_type": "code",
   "execution_count": null,
   "metadata": {},
   "outputs": [],
   "source": []
  },
  {
   "cell_type": "code",
   "execution_count": null,
   "metadata": {},
   "outputs": [],
   "source": []
  },
  {
   "cell_type": "code",
   "execution_count": null,
   "metadata": {},
   "outputs": [],
   "source": []
  },
  {
   "cell_type": "code",
   "execution_count": null,
   "metadata": {},
   "outputs": [],
   "source": []
  },
  {
   "cell_type": "code",
   "execution_count": null,
   "metadata": {},
   "outputs": [],
   "source": []
  },
  {
   "cell_type": "code",
   "execution_count": null,
   "metadata": {},
   "outputs": [],
   "source": []
  },
  {
   "cell_type": "code",
   "execution_count": null,
   "metadata": {},
   "outputs": [],
   "source": []
  },
  {
   "cell_type": "code",
   "execution_count": null,
   "metadata": {},
   "outputs": [],
   "source": [
    "\n"
   ]
  },
  {
   "cell_type": "code",
   "execution_count": null,
   "metadata": {},
   "outputs": [],
   "source": []
  },
  {
   "cell_type": "code",
   "execution_count": null,
   "metadata": {},
   "outputs": [],
   "source": []
  },
  {
   "cell_type": "code",
   "execution_count": null,
   "metadata": {},
   "outputs": [],
   "source": []
  },
  {
   "cell_type": "code",
   "execution_count": null,
   "metadata": {},
   "outputs": [],
   "source": []
  },
  {
   "cell_type": "code",
   "execution_count": null,
   "metadata": {},
   "outputs": [],
   "source": []
  },
  {
   "cell_type": "code",
   "execution_count": null,
   "metadata": {},
   "outputs": [],
   "source": []
  },
  {
   "cell_type": "code",
   "execution_count": null,
   "metadata": {},
   "outputs": [],
   "source": []
  },
  {
   "cell_type": "code",
   "execution_count": null,
   "metadata": {},
   "outputs": [],
   "source": []
  },
  {
   "cell_type": "code",
   "execution_count": null,
   "metadata": {},
   "outputs": [],
   "source": []
  },
  {
   "cell_type": "code",
   "execution_count": null,
   "metadata": {},
   "outputs": [],
   "source": [
    "#clf = RandomForestClassifier(n_estimators=50, random_state=23)\n",
    "#model = clf.fit(X_train_g2019, y_train_g2019)\n",
    "\n",
    "# Use predict_proba to predict probability of the class\n",
    "#y_pred = clf.predict_proba(X_test_g2019)[:,1]\n"
   ]
  },
  {
   "cell_type": "code",
   "execution_count": null,
   "metadata": {},
   "outputs": [],
   "source": [
    "#bc = BinaryClassification(y_test_g2019, y_pred_g2019, labels=[\"Class 0\", \"Class 1\"])\n",
    "\n",
    "# Figures\n",
    "#plt.figure(figsize=(15,10))\n",
    "#plt.subplot2grid(shape=(2,6), loc=(0,0), colspan=2)\n",
    "#bc.plot_roc_curve()\n",
    "#plt.subplot2grid((2,6), (0,2), colspan=2)\n",
    "#bc.plot_precision_recall_curve()\n",
    "#plt.subplot2grid((2,6), (0,4), colspan=2)\n",
    "#bc.plot_class_distribution()\n",
    "#plt.subplot2grid((2,6), (1,1), colspan=2)\n",
    "#bc.plot_confusion_matrix()\n",
    "#plt.subplot2grid((2,6), (1,3), colspan=2)\n",
    "#bc.plot_confusion_matrix(normalize=True)\n",
    "#plt.show()\n",
    "#bc.print_report()"
   ]
  }
 ],
 "metadata": {
  "kernelspec": {
   "display_name": "Python 3",
   "language": "python",
   "name": "python3"
  },
  "language_info": {
   "codemirror_mode": {
    "name": "ipython",
    "version": 3
   },
   "file_extension": ".py",
   "mimetype": "text/x-python",
   "name": "python",
   "nbconvert_exporter": "python",
   "pygments_lexer": "ipython3",
   "version": "3.7.4"
  }
 },
 "nbformat": 4,
 "nbformat_minor": 2
}
